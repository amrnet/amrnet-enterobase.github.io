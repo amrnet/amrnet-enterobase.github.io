{
 "cells": [
  {
   "cell_type": "markdown",
   "metadata": {
    "id": "09zg9pLwb_Mo"
   },
   "source": [
    "![banner](../banner.jpg)\n",
    "\n",
    "***[Page 1](about) - xxxxx\n",
    "\n",
    "---"
   ]
  },
  {
   "cell_type": "markdown",
   "metadata": {
    "id": "QPvqgYQHAfKF"
   },
   "source": [
    "# Interactive cloud computing with Google Colaboratory\n",
    "\n",
    "**Theme: Tools & Technology**\n",
    "\n",
    "This first technology module introduces Google Colaboratory (a.k.a. Colab), an interactive cloud computing service for data analysis, which we will be using for practical exercises throughout the course."
   ]
  },
  {
   "cell_type": "markdown",
   "metadata": {
    "id": "TOnaa1RkDDIB"
   },
   "source": [
    "## Learning objectives\n",
    "\n",
    "After completing this module, you will be able to:\n",
    "\n",
    "* Explain what colab is\n",
    "* Explain what a notebook is\n",
    "* Access Colab and use it to create and run notebooks\n",
    "* Edit notebooks and create code and text cells\n",
    "* Be familiar with some basic coding in Python\n",
    "* Import and install packages\n",
    "* Share Colab notebooks via Google Drive"
   ]
  },
  {
   "cell_type": "markdown",
   "metadata": {
    "id": "FFwdnsOSD_hI"
   },
   "source": [
    "## What is Colab?\n",
    "\n",
    "Colab is an interactive cloud computing service provided for free by Google. To access Colab, visit the following address in your Web browser:\n",
    "\n",
    "* [https://colab.research.google.com](https://colab.research.google.com)\n",
    "\n",
    "To access Colab you will need a Google account. If you don't already have one, [create an account](https://accounts.google.com/SignUp) and then log in.\n",
    "\n",
    "Colab allows you to write and execute code using your Web browser. There are two important features of Colab that are very useful for data analysis:\n",
    "\n",
    "* **Interactive notebooks** - You can explore and analyse data one step at a time, by writing small pieces of code, running them, inspecting the results, and then writing further code. \n",
    "* **Cloud computing** - You can get access to computers hosted by Google and use them to run your code, without having to install any software or download any data onto your own computer.  "
   ]
  },
  {
   "cell_type": "markdown",
   "metadata": {
    "id": "JpsZnq9mDsTw"
   },
   "source": [
    "## What is a notebook?\n",
    "\n",
    "A notebook is an interactive, editable document that you can use to:\n",
    "\n",
    "* Write and execute code \n",
    "* Create plots, tables, written text and other types of content\n",
    "\n",
    "A notebook is built up from **cells**. There are two main types of cells in a notebook: **code cells** and **text cells**.\n"
   ]
  },
  {
   "cell_type": "markdown",
   "metadata": {
    "id": "Ge_jS8PZJTEK"
   },
   "source": [
    "## Code cells\n",
    "\n",
    "A code cell contains [Python code](https://www.python.org/). To add a code cell to your notebook, click the **`+ Code`** button at the top of the notebook.\n",
    "\n",
    "Below is an example code cell."
   ]
  },
  {
   "cell_type": "code",
   "execution_count": null,
   "metadata": {
    "colab": {
     "base_uri": "https://localhost:8080/"
    },
    "id": "sTPWWaGdECK_",
    "outputId": "33322a3a-8c56-4313-dda7-f84553b6ff31",
    "tags": []
   },
   "outputs": [],
   "source": [
    "print(\"Hello world!\")"
   ]
  },
  {
   "cell_type": "markdown",
   "metadata": {
    "id": "2rNDe9sEJia5"
   },
   "source": [
    "### Executing a code cell\n",
    "\n",
    "To execute a code cell, click on the **play icon** next to the cell. You can also type **Shift+Enter**, which will run the cell and move the focus to the next cell."
   ]
  },
  {
   "cell_type": "markdown",
   "metadata": {
    "id": "Q5DwRnvNKvRQ"
   },
   "source": [
    "### Cell output\n",
    "\n",
    "The code cell above uses the built-in `print` function, which prints the string `\"Hello world!\"` as output. If a code cell generates some output when it is run, the output is displayed below the cell.\n",
    "\n",
    "Cells do not always have output. For example, the code cell below declares a variable named `foo` and assigns the integer value `42`, but does not create an output."
   ]
  },
  {
   "cell_type": "code",
   "execution_count": null,
   "metadata": {
    "id": "rh-0eJ5WKRAo",
    "tags": []
   },
   "outputs": [],
   "source": [
    "foo = 42"
   ]
  },
  {
   "cell_type": "markdown",
   "metadata": {
    "id": "-mvUD8sYKnly"
   },
   "source": [
    "### Inspecting a variable\n",
    "\n",
    "If you have declared a variable, such as `foo` in the code cell above, and you want to inspect its value, you can do this by writing a code cell where the variable is written on the last line."
   ]
  },
  {
   "cell_type": "code",
   "execution_count": null,
   "metadata": {
    "colab": {
     "base_uri": "https://localhost:8080/"
    },
    "id": "ClhJT3ZaK8jr",
    "outputId": "98cd82b9-1e5c-4d9f-e35b-5077ca2c2153",
    "tags": []
   },
   "outputs": [],
   "source": [
    "foo"
   ]
  },
  {
   "cell_type": "markdown",
   "metadata": {
    "id": "85ZduRtCK9ta"
   },
   "source": [
    "Running this code cell will print the value of the variable as the cell output. Let's try modifying this variable, and inspecting it again."
   ]
  },
  {
   "cell_type": "code",
   "execution_count": null,
   "metadata": {
    "colab": {
     "base_uri": "https://localhost:8080/"
    },
    "id": "3dUmVSxyLGP_",
    "outputId": "dd780047-0024-4c97-f3ab-961b07863885",
    "tags": []
   },
   "outputs": [],
   "source": [
    "foo = foo + 1\n",
    "foo"
   ]
  },
  {
   "cell_type": "markdown",
   "metadata": {
    "id": "6Z3vIIfLhY3u"
   },
   "source": [
    "It can also sometimes be useful to use the built-in `type()` function inspect what type of object has been assigned to a variable, e.g.:"
   ]
  },
  {
   "cell_type": "code",
   "execution_count": null,
   "metadata": {
    "colab": {
     "base_uri": "https://localhost:8080/"
    },
    "id": "LramF1Wohebd",
    "outputId": "5839f0cf-54bc-41db-e766-1ee352f60e38",
    "tags": []
   },
   "outputs": [],
   "source": [
    "type(foo)"
   ]
  },
  {
   "cell_type": "markdown",
   "metadata": {
    "id": "Q3swoV1CLLrT"
   },
   "source": [
    "## Text cells\n",
    "\n",
    "As well as code cells, you can also create text cells, which create text that you write, and can use different types of text formatting such as bold, italic, indented lists, hyperlinks and mathematical equations.\n",
    "\n",
    "To add a text cell to your notebook, click the **`+ Text`** button at the top of the notebook.\n",
    "\n",
    "To edit an existing text cell in a notebook, **double click** on the cell."
   ]
  },
  {
   "cell_type": "markdown",
   "metadata": {
    "id": "pPNPia5xNApP"
   },
   "source": [
    "### Formatting text\n",
    "\n",
    "Text cells can be formatted using a special syntax called **markdown**. \n",
    "\n",
    "Here is a quick summary of some useful markdown syntax for formatting text:\n",
    "\n",
    "Markdown syntax | Preview\n",
    "--- | ---\n",
    "`**bold text**` | **bold text**\n",
    "`*italicized text*` | *italicized text*\n",
    "`` `monospace text` `` | `Monospace`\n",
    "`[A link](https://en.wikipedia.org/wiki/)` | [A link](https://en.wikipedia.org/wiki/)"
   ]
  },
  {
   "cell_type": "markdown",
   "metadata": {
    "id": "ybXp7jCDOt98"
   },
   "source": [
    "\n",
    "### Creating lists\n",
    "\n",
    "Unordered lists can be created by putting each list item on a new line, starting with the `*` character, e.g.:\n",
    "\n",
    "```\n",
    "* A list item\n",
    "* Another list item\n",
    "* Yet another list item\n",
    "```\n",
    "\n",
    "Ordered lists can be created by starting each list item with `1.`, e.g.:\n",
    "\n",
    "```\n",
    "1. First item\n",
    "1. Second item\n",
    "1. Third item\n",
    "```"
   ]
  },
  {
   "cell_type": "markdown",
   "metadata": {
    "id": "szC-JV13OwpH"
   },
   "source": [
    "### Creating section headings\n",
    "\n",
    "To create a section heading within a notebook, begin a line of text with the `#` character. E.g.:\n",
    "\n",
    "```\n",
    "# This is a section heading\n",
    "```\n",
    "\n",
    "To create a sub-section heading, begin a line of text with `##`, E.g.:\n",
    "\n",
    "```\n",
    "## This is a sub-section heading\n",
    "```"
   ]
  },
  {
   "cell_type": "markdown",
   "metadata": {
    "id": "yecbLv7WNzvv"
   },
   "source": [
    "### Adding images\n",
    "\n",
    "You can include an image in a notebook, if the image is published on the Web and you know it's address. E.g., the markdown syntax below includes an image of an *xxxxxx* xxx available from wikipedia:\n",
    "\n"
   ]
  },
  {
   "cell_type": "markdown",
   "metadata": {
    "id": "wA7GGyY7QMVp"
   },
   "source": [
    "## Adding, moving and deleting cells\n",
    "\n",
    "A new cell can be added by using the **`+ Code`** and **`+ Text`** at the top of the notebook, or that show when you hover between cells.\n",
    "\n",
    "Cells can be moved within the notebook by clicking on the **up and down arrows** in the cell toolbar.\n",
    "\n",
    "A cell can be deleted by clicking the **dustbin icon** within the cell toolbar."
   ]
  },
  {
   "cell_type": "markdown",
   "metadata": {
    "id": "Pgh6vPWzhfsk"
   },
   "source": [
    "## Coding basics\n",
    "\n",
    "Here are a few examples of things you can do using Python code. For this course we don't expect you to be an experienced coder, but some familiarity with features like arithmetic, for loops and functions will be useful."
   ]
  },
  {
   "cell_type": "markdown",
   "metadata": {
    "id": "xQ71d_d4dvk2"
   },
   "source": [
    "### Math\n",
    "\n",
    "You can do arithmetic."
   ]
  },
  {
   "cell_type": "code",
   "execution_count": null,
   "metadata": {
    "colab": {
     "base_uri": "https://localhost:8080/"
    },
    "id": "pwsHi0Hod_AV",
    "outputId": "61ef7ceb-db6e-4019-a308-f6563393fe6d",
    "tags": []
   },
   "outputs": [],
   "source": [
    "x = 10\n",
    "y = 3 + (4 * x) - 1\n",
    "y"
   ]
  },
  {
   "cell_type": "markdown",
   "metadata": {
    "id": "xCw8S3HMeRMR"
   },
   "source": [
    "### For loops\n",
    "\n",
    "You can use a for loop to iterate over a sequence of values. E.g., you can iterative over a sequence of numbers using a for loop together with the built-in [`range()` function](https://docs.python.org/3.7/library/stdtypes.html#typesseq-range)."
   ]
  },
  {
   "cell_type": "code",
   "execution_count": null,
   "metadata": {
    "colab": {
     "base_uri": "https://localhost:8080/"
    },
    "id": "dq79jxwjeSzx",
    "outputId": "98977a8c-3cad-4789-ca1d-c4b4042ee868",
    "tags": []
   },
   "outputs": [],
   "source": [
    "for i in range(5):\n",
    "    print(i)"
   ]
  },
  {
   "cell_type": "markdown",
   "metadata": {
    "id": "uRJQN0B_dq9K"
   },
   "source": [
    "### Defining and calling functions\n",
    "\n",
    "You can organise your code into functions with parameters. E.g., here we define a function `greet()` with a single parameter `name`. "
   ]
  },
  {
   "cell_type": "code",
   "execution_count": null,
   "metadata": {
    "id": "Jlc1NDFmdRiA",
    "tags": []
   },
   "outputs": [],
   "source": [
    "def greet(name):\n",
    "    print(f\"Hello {name}!\")"
   ]
  },
  {
   "cell_type": "markdown",
   "metadata": {
    "id": "EN0NnIZM6xBm"
   },
   "source": [
    "You can then call the function with different parameter values."
   ]
  },
  {
   "cell_type": "code",
   "execution_count": null,
   "metadata": {
    "colab": {
     "base_uri": "https://localhost:8080/"
    },
    "id": "2lRMGm6NdYen",
    "outputId": "cf13253e-38dc-4467-accf-34d4d175e4f7",
    "tags": []
   },
   "outputs": [],
   "source": [
    "greet(\"Mario pneumoniae\")"
   ]
  },
  {
   "cell_type": "code",
   "execution_count": null,
   "metadata": {
    "colab": {
     "base_uri": "https://localhost:8080/"
    },
    "id": "mRJj59rG6xBn",
    "outputId": "2d7ffdc1-3276-48ab-f27b-8c9ed506ffd6",
    "tags": []
   },
   "outputs": [],
   "source": [
    "greet(\"Paula enterica\")"
   ]
  },
  {
   "cell_type": "markdown",
   "metadata": {
    "id": "bwAxxpvYRDKw"
   },
   "source": [
    "## Importing and installing Python packages\n",
    "\n",
    "Python packages are collections of functions that other people have already created, and which you can import into your notebook and use. \n",
    "\n",
    "There are some functions which are \"built-in\" to Python, like the `print()` and `range()` functions we've already seen, which are always available and you don't need to import.\n",
    "\n",
    "There are a lot more functions available as part of the [Python standard library](https://docs.python.org/3.7/library/), which will already be installed, but you do need to import them before you can use them.\n",
    "\n",
    "There are loads more functions available through \"third-party packages\" which are packages provided by other developers in the Python community. E.g., a very useful package for numerical computing is [NumPy](https://numpy.org/). On colab, numpy is already installed, and so you can just import it. By convention we abbreviate \"numpy\" to \"np\" just to reduce the amount of typing we have to do. "
   ]
  },
  {
   "cell_type": "code",
   "execution_count": null,
   "metadata": {
    "id": "5kq8iET8ewpe",
    "tags": []
   },
   "outputs": [],
   "source": [
    "import numpy as np"
   ]
  },
  {
   "cell_type": "markdown",
   "metadata": {
    "id": "OTqJmw3D6xBp"
   },
   "source": [
    "Now that we've imported NumPy we can call functions. E.g., let's generate some random numbers using the [np.random.randint()](https://numpy.org/doc/stable/reference/random/generated/numpy.random.randint.html) function."
   ]
  },
  {
   "cell_type": "code",
   "execution_count": null,
   "metadata": {
    "colab": {
     "base_uri": "https://localhost:8080/"
    },
    "id": "udVhR9jJfJTW",
    "outputId": "b5da1b45-99f1-4e20-85f1-87921d79feec",
    "tags": []
   },
   "outputs": [],
   "source": [
    "y = np.random.randint(low=0, high=100, size=10)\n",
    "y"
   ]
  },
  {
   "cell_type": "markdown",
   "metadata": {
    "id": "Tror3nEM6xBq"
   },
   "source": [
    "Once it's installed, we can import it like we did for numpy."
   ]
  },
  {
   "cell_type": "markdown",
   "metadata": {
    "id": "OhNexc5i6xBq"
   },
   "source": [
    "And we can start using the package to set up access to some data."
   ]
  },
  {
   "cell_type": "markdown",
   "metadata": {
    "id": "5pqoYxbLS2qQ"
   },
   "source": [
    "## Viewing dataframes\n",
    "\n",
    "Often when analysing data you will work with [pandas DataFrames](https://pandas.pydata.org/pandas-docs/stable/user_guide/dsintro.html#dataframe), which are tables of data organised into rows and columns. We will look at DataFrames in more detail later in the course, but for now it's useful to know that you can get a preview of the data in a DataFrame.\n",
    "\n",
    "E.g., if we call the `sample_metadata()` function below, this returns a DataFrame."
   ]
  },
  {
   "cell_type": "markdown",
   "metadata": {
    "id": "lJtQ2mcqTAWA"
   },
   "source": [
    "## Creating plots\n",
    "\n",
    "You can also create plots within notebooks. There are several plotting packages available for Python, but three popular and useful plotting packages are [matplotlib](https://matplotlib.org/), [plotly express](https://matplotlib.org/), and [bokeh](https://docs.bokeh.org/en/latest/index.html). Let's illustrate making some plots with these packages.\n",
    "\n",
    "First let's generate some random data to plot."
   ]
  },
  {
   "cell_type": "code",
   "execution_count": null,
   "metadata": {
    "colab": {
     "base_uri": "https://localhost:8080/"
    },
    "id": "0eTx4ltEj1ww",
    "outputId": "1ad1f7ca-faab-4a13-d151-8d0947f9d5f6",
    "tags": []
   },
   "outputs": [],
   "source": [
    "x = np.random.binomial(n=30, p=0.5, size=10_000)\n",
    "x"
   ]
  },
  {
   "cell_type": "markdown",
   "metadata": {
    "id": "tJY3E8yGTDC_"
   },
   "source": [
    "### Matplotlib\n",
    "\n",
    "Here's how to import and activate matplotlib in a notebook."
   ]
  },
  {
   "cell_type": "code",
   "execution_count": null,
   "metadata": {
    "id": "SiolTVY8hyfH",
    "tags": []
   },
   "outputs": [],
   "source": [
    "import matplotlib.pyplot as plt\n",
    "%matplotlib inline"
   ]
  },
  {
   "cell_type": "markdown",
   "metadata": {
    "id": "Z37r1mE46xBt"
   },
   "source": [
    "Here's how to create a histogram."
   ]
  },
  {
   "cell_type": "code",
   "execution_count": null,
   "metadata": {
    "colab": {
     "base_uri": "https://localhost:8080/",
     "height": 295
    },
    "id": "nWAXQguFhy6J",
    "outputId": "cc0b2bac-3c49-44d7-905e-72162ae3fa95",
    "tags": []
   },
   "outputs": [],
   "source": [
    "fig, ax = plt.subplots()\n",
    "ax.hist(x)\n",
    "ax.set_xlabel(\"x\")\n",
    "ax.set_ylabel(\"Count\")\n",
    "ax.set_title(\"The binomial distribution\");"
   ]
  },
  {
   "cell_type": "markdown",
   "metadata": {
    "id": "xYqfzVjmTLCM"
   },
   "source": [
    "### Plotly Express\n",
    "\n",
    "Here's how to import plotly express."
   ]
  },
  {
   "cell_type": "code",
   "execution_count": null,
   "metadata": {
    "id": "DJgxWVfzjLQg",
    "tags": []
   },
   "outputs": [],
   "source": [
    "import plotly.express as px"
   ]
  },
  {
   "cell_type": "markdown",
   "metadata": {
    "id": "5MFMXUfH6xBu"
   },
   "source": [
    "Here's how to plot a histogram."
   ]
  },
  {
   "cell_type": "code",
   "execution_count": null,
   "metadata": {
    "colab": {
     "base_uri": "https://localhost:8080/",
     "height": 417
    },
    "id": "JLPR8ISZjMP4",
    "outputId": "e7ee6a3a-87f9-4ecd-934b-5f346f652eb8",
    "tags": []
   },
   "outputs": [],
   "source": [
    "fig = px.histogram(\n",
    "    x=x, \n",
    "    title=\"The binomial distribution\",\n",
    "    width=600,\n",
    "    height=400\n",
    ")"
   ]
  },
  {
   "cell_type": "code",
   "execution_count": null,
   "metadata": {},
   "outputs": [],
   "source": [
    "fig.show()"
   ]
  },
  {
   "cell_type": "markdown",
   "metadata": {
    "id": "v0gmADhLTNJY"
   },
   "source": [
    "### Bokeh\n",
    "\n",
    "Here's how to import bokeh and activate it for use in a notebook."
   ]
  },
  {
   "cell_type": "code",
   "execution_count": null,
   "metadata": {
    "id": "cSjm8O4VkQEU",
    "tags": []
   },
   "outputs": [],
   "source": [
    "import bokeh.plotting as bkplt\n",
    "import bokeh.io as bkio\n",
    "bkio.output_notebook()"
   ]
  },
  {
   "cell_type": "markdown",
   "metadata": {
    "id": "EIcZvJbX6xBv"
   },
   "source": [
    "Here's how to make a histogram."
   ]
  },
  {
   "cell_type": "code",
   "execution_count": null,
   "metadata": {
    "colab": {
     "base_uri": "https://localhost:8080/",
     "height": 417
    },
    "id": "Kn-nNT2TkQ8h",
    "outputId": "28e231bf-6d34-40c7-a646-f689b062db16",
    "tags": []
   },
   "outputs": [],
   "source": [
    "fig = bkplt.figure(title=\"The binomial distribution\", width=600, height=400)\n",
    "hist, edges = np.histogram(x)\n",
    "fig.quad(top=hist, bottom=0, left=edges[:-1], right=edges[1:])\n",
    "bkplt.show(fig)"
   ]
  },
  {
   "cell_type": "markdown",
   "metadata": {
    "id": "p1HcXsK1TPPf"
   },
   "source": [
    "## Accessing help documentation (docstrings)\n",
    "\n",
    "Often you'll want to get access to documentation about the packages and functions you're using. An easy way to access documentation (the docstring) for a function is to type the function name then add a question mark (?). This will cause the docstring to appear next to the notebook."
   ]
  },
  {
   "cell_type": "code",
   "execution_count": null,
   "metadata": {
    "id": "8MriYreYTaHp",
    "tags": []
   },
   "outputs": [],
   "source": [
    "np.random.binomial?"
   ]
  },
  {
   "cell_type": "markdown",
   "metadata": {
    "id": "EvHgrWJ06xBw"
   },
   "source": [
    "You can also search the web. Most packages will have good documentation on their website. E.g., here's the online documentation for [np.random.binomial()](https://numpy.org/doc/stable/reference/random/generated/numpy.random.binomial.html)."
   ]
  },
  {
   "cell_type": "markdown",
   "metadata": {
    "id": "GZHxDB1EUFLY"
   },
   "source": [
    "## Sharing notebooks via Google Drive\n",
    "\n",
    "Finally, you can share your notebooks with colleagues to show them the results of your data analysis. Colab notebooks are stored in your Google Drive and you can share them just like any other Google doc. Click the \"share\" button at the top right to begin sharing. An easy way to share is to create a link, which you can then copy and paste to share with colleagues."
   ]
  },
  {
   "cell_type": "code",
   "execution_count": null,
   "metadata": {},
   "outputs": [],
   "source": []
  }
 ],
 "metadata": {
  "colab": {
   "collapsed_sections": [],
   "name": "Workshop 1 - Module 1 - Interactive cloud computing with Google Colaboratory - 2022-03-03.ipynb",
   "provenance": []
  },
  "kernelspec": {
   "display_name": "developer-developer-training-nb-maintenance-mgen-8.7.0",
   "language": "python",
   "name": "conda-env-developer-developer-training-nb-maintenance-mgen-8.7.0-py"
  },
  "language_info": {
   "codemirror_mode": {
    "name": "ipython",
    "version": 3
   },
   "file_extension": ".py",
   "mimetype": "text/x-python",
   "name": "python",
   "nbconvert_exporter": "python",
   "pygments_lexer": "ipython3",
   "version": "3.10.11"
  },
  "widgets": {
   "application/vnd.jupyter.widget-state+json": {
    "state": {},
    "version_major": 2,
    "version_minor": 0
   }
  }
 },
 "nbformat": 4,
 "nbformat_minor": 4
}
